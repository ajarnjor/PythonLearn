{
 "cells": [
  {
   "cell_type": "code",
   "execution_count": 1,
   "metadata": {},
   "outputs": [],
   "source": [
    "import pandas as pd"
   ]
  },
  {
   "cell_type": "code",
   "execution_count": 2,
   "metadata": {},
   "outputs": [
    {
     "data": {
      "text/plain": [
       "'0.23.4'"
      ]
     },
     "execution_count": 2,
     "metadata": {},
     "output_type": "execute_result"
    }
   ],
   "source": [
    "pd.__version__"
   ]
  },
  {
   "cell_type": "code",
   "execution_count": 3,
   "metadata": {},
   "outputs": [],
   "source": [
    "import requests\n",
    "from bs4 import BeautifulSoup"
   ]
  },
  {
   "cell_type": "code",
   "execution_count": 4,
   "metadata": {},
   "outputs": [],
   "source": [
    "r = requests.get('https://www.pedigree.co.th/CaringTips/Breed/')"
   ]
  },
  {
   "cell_type": "code",
   "execution_count": 6,
   "metadata": {},
   "outputs": [
    {
     "data": {
      "text/plain": [
       "'\\r\\n<!DOCTYPE html>\\r\\n<html xmlns=\"http://www.w3.org/1999/xhtml\">\\r\\n<head>\\r\\n    <meta name=\"viewport\" content=\"width=device-width, initial-scale=1.0, user-scalable=0\">\\r\\n\\r\\n    <link rel=\"icon\" type=\"image/'"
      ]
     },
     "execution_count": 6,
     "metadata": {},
     "output_type": "execute_result"
    }
   ],
   "source": [
    "r.text[:200]"
   ]
  },
  {
   "cell_type": "code",
   "execution_count": 8,
   "metadata": {},
   "outputs": [
    {
     "data": {
      "text/plain": [
       "bs4.BeautifulSoup"
      ]
     },
     "execution_count": 8,
     "metadata": {},
     "output_type": "execute_result"
    }
   ],
   "source": [
    "s=BeautifulSoup(r.text,'lxml')\n",
    "type(s)"
   ]
  },
  {
   "cell_type": "code",
   "execution_count": 9,
   "metadata": {},
   "outputs": [
    {
     "data": {
      "text/plain": [
       "<div class=\"mb-center\" id=\"blBreedListB\">\n",
       "<div class=\"box-sub\">\n",
       "<a href=\"https://www.pedigree.co.th/CaringTips/Breed/Item.aspx/6/basenji\" title=\"บาเซ็นจิ\">\n",
       "<img alt=\"บาเซ็นจิ\" class=\"mb-center\" src=\"/uploads/Breeds/บาเซ็นจิ.jpg\"/>\n",
       "<p>Basenji <br/> บาเซ็นจิ</p>\n",
       "</a>\n",
       "</div>\n",
       "<div class=\"box-sub\">\n",
       "<a href=\"https://www.pedigree.co.th/CaringTips/Breed/Item.aspx/7/basset-hound\" title=\"บาสเซ็ต ฮาวด์\">\n",
       "<img alt=\"บาสเซ็ต ฮาวด์\" class=\"mb-center\" src=\"/uploads/Breeds/บาสเซ็ต-ฮาวด์.jpg\"/>\n",
       "<p>Basset hound <br/> บาสเซ็ต ฮาวด์</p>\n",
       "</a>\n",
       "</div>\n",
       "<div class=\"box-sub\">\n",
       "<a href=\"https://www.pedigree.co.th/CaringTips/Breed/Item.aspx/8/beagle\" title=\"บีเกิ้ล\">\n",
       "<img alt=\"บีเกิ้ล\" class=\"mb-center\" src=\"/uploads/Breeds/บีเกิ้ล.jpg\"/>\n",
       "<p>Beagle <br/> บีเกิ้ล</p>\n",
       "</a>\n",
       "</div>\n",
       "<div class=\"box-sub\">\n",
       "<a href=\"https://www.pedigree.co.th/CaringTips/Breed/Item.aspx/10/bichon-fries\" title=\"บิชอง ฟริเซ่\">\n",
       "<img alt=\"บิชอง ฟริเซ่\" class=\"mb-center\" src=\"/uploads/Breeds/บิชอง-ฟริเซ่.jpg\"/>\n",
       "<p>Bichon fries <br/> บิชอง ฟริเซ่</p>\n",
       "</a>\n",
       "</div>\n",
       "<div class=\"box-sub\">\n",
       "<a href=\"https://www.pedigree.co.th/CaringTips/Breed/Item.aspx/11/border-collie\" title=\"บอร์เดอร์ คอลลี่\">\n",
       "<img alt=\"บอร์เดอร์ คอลลี่\" class=\"mb-center\" src=\"/uploads/Breeds/บอร์เดอร์-คอลลี่.jpg\"/>\n",
       "<p>Border collie <br/> บอร์เดอร์ คอลลี่</p>\n",
       "</a>\n",
       "</div>\n",
       "<div class=\"box-sub\">\n",
       "<a href=\"https://www.pedigree.co.th/CaringTips/Breed/Item.aspx/12/boston-terrier\" title=\"บอสตัน เทอร์เรีย\">\n",
       "<img alt=\"บอสตัน เทอร์เรีย\" class=\"mb-center\" src=\"/uploads/Breeds/บอสตัน-เทอร์เรีย.jpg\"/>\n",
       "<p>Boston terrier <br/> บอสตัน เทอร์เรีย</p>\n",
       "</a>\n",
       "</div>\n",
       "<div class=\"box-sub\">\n",
       "<a href=\"https://www.pedigree.co.th/CaringTips/Breed/Item.aspx/13/boxer\" title=\"บ็อกเซอร์\">\n",
       "<img alt=\"บ็อกเซอร์\" class=\"mb-center\" src=\"/uploads/Breeds/บ็อกเซอร์.jpg\"/>\n",
       "<p>Boxer <br/> บ็อกเซอร์</p>\n",
       "</a>\n",
       "</div>\n",
       "<div class=\"box-sub\">\n",
       "<a href=\"https://www.pedigree.co.th/CaringTips/Breed/Item.aspx/14/bull-terrier\" title=\"บูลล์เทอร์เรีย\">\n",
       "<img alt=\"บูลล์เทอร์เรีย\" class=\"mb-center\" src=\"/uploads/Breeds/บูลล์เทอร์เรีย.jpg\"/>\n",
       "<p>Bull terrier <br/> บูลล์เทอร์เรีย</p>\n",
       "</a>\n",
       "</div>\n",
       "<div class=\"box-sub\">\n",
       "<a href=\"https://www.pedigree.co.th/CaringTips/Breed/Item.aspx/15/bulldog\" title=\"บูลล์ด็อก\">\n",
       "<img alt=\"บูลล์ด็อก\" class=\"mb-center\" src=\"/uploads/Breeds/บูลล์ด็อก.jpg\"/>\n",
       "<p>Bulldog <br/> บูลล์ด็อก</p>\n",
       "</a>\n",
       "</div>\n",
       "<div class=\"clear\"></div>\n",
       "</div>"
      ]
     },
     "execution_count": 9,
     "metadata": {},
     "output_type": "execute_result"
    }
   ],
   "source": [
    "d=s.find('div',{'id':'blBreedListB'})\n",
    "d"
   ]
  },
  {
   "cell_type": "code",
   "execution_count": 10,
   "metadata": {},
   "outputs": [],
   "source": [
    "a_tags=d.find_all('a')"
   ]
  },
  {
   "cell_type": "code",
   "execution_count": 11,
   "metadata": {},
   "outputs": [
    {
     "data": {
      "text/plain": [
       "bs4.element.ResultSet"
      ]
     },
     "execution_count": 11,
     "metadata": {},
     "output_type": "execute_result"
    }
   ],
   "source": [
    "type(a_tags)"
   ]
  },
  {
   "cell_type": "code",
   "execution_count": 13,
   "metadata": {},
   "outputs": [
    {
     "data": {
      "text/plain": [
       "[<a href=\"https://www.pedigree.co.th/CaringTips/Breed/Item.aspx/6/basenji\" title=\"บาเซ็นจิ\">\n",
       " <img alt=\"บาเซ็นจิ\" class=\"mb-center\" src=\"/uploads/Breeds/บาเซ็นจิ.jpg\"/>\n",
       " <p>Basenji <br/> บาเซ็นจิ</p>\n",
       " </a>,\n",
       " <a href=\"https://www.pedigree.co.th/CaringTips/Breed/Item.aspx/7/basset-hound\" title=\"บาสเซ็ต ฮาวด์\">\n",
       " <img alt=\"บาสเซ็ต ฮาวด์\" class=\"mb-center\" src=\"/uploads/Breeds/บาสเซ็ต-ฮาวด์.jpg\"/>\n",
       " <p>Basset hound <br/> บาสเซ็ต ฮาวด์</p>\n",
       " </a>,\n",
       " <a href=\"https://www.pedigree.co.th/CaringTips/Breed/Item.aspx/8/beagle\" title=\"บีเกิ้ล\">\n",
       " <img alt=\"บีเกิ้ล\" class=\"mb-center\" src=\"/uploads/Breeds/บีเกิ้ล.jpg\"/>\n",
       " <p>Beagle <br/> บีเกิ้ล</p>\n",
       " </a>]"
      ]
     },
     "execution_count": 13,
     "metadata": {},
     "output_type": "execute_result"
    }
   ],
   "source": [
    "a_tags[:3]"
   ]
  },
  {
   "cell_type": "code",
   "execution_count": 14,
   "metadata": {},
   "outputs": [
    {
     "data": {
      "text/plain": [
       "<a href=\"https://www.pedigree.co.th/CaringTips/Breed/Item.aspx/6/basenji\" title=\"บาเซ็นจิ\">\n",
       "<img alt=\"บาเซ็นจิ\" class=\"mb-center\" src=\"/uploads/Breeds/บาเซ็นจิ.jpg\"/>\n",
       "<p>Basenji <br/> บาเซ็นจิ</p>\n",
       "</a>"
      ]
     },
     "execution_count": 14,
     "metadata": {},
     "output_type": "execute_result"
    }
   ],
   "source": [
    "a_tags[0]"
   ]
  },
  {
   "cell_type": "code",
   "execution_count": 15,
   "metadata": {},
   "outputs": [
    {
     "data": {
      "text/plain": [
       "'https://www.pedigree.co.th/CaringTips/Breed/Item.aspx/10/bichon-fries'"
      ]
     },
     "execution_count": 15,
     "metadata": {},
     "output_type": "execute_result"
    }
   ],
   "source": [
    "a_tags[3]['href']"
   ]
  },
  {
   "cell_type": "code",
   "execution_count": 16,
   "metadata": {},
   "outputs": [
    {
     "data": {
      "text/plain": [
       "<img alt=\"บิชอง ฟริเซ่\" class=\"mb-center\" src=\"/uploads/Breeds/บิชอง-ฟริเซ่.jpg\"/>"
      ]
     },
     "execution_count": 16,
     "metadata": {},
     "output_type": "execute_result"
    }
   ],
   "source": [
    "a_tags[3].find('img')"
   ]
  },
  {
   "cell_type": "code",
   "execution_count": 17,
   "metadata": {},
   "outputs": [
    {
     "data": {
      "text/plain": [
       "'บาเซ็นจิ'"
      ]
     },
     "execution_count": 17,
     "metadata": {},
     "output_type": "execute_result"
    }
   ],
   "source": [
    "a_tags[0].find('img')['alt']"
   ]
  },
  {
   "cell_type": "code",
   "execution_count": 18,
   "metadata": {},
   "outputs": [
    {
     "data": {
      "text/plain": [
       "'/uploads/Breeds/บาเซ็นจิ.jpg'"
      ]
     },
     "execution_count": 18,
     "metadata": {},
     "output_type": "execute_result"
    }
   ],
   "source": [
    "a_tags[0].find('img')['src']"
   ]
  },
  {
   "cell_type": "code",
   "execution_count": 28,
   "metadata": {},
   "outputs": [],
   "source": [
    "rows=[]\n",
    "url_prefix= 'https://www.pedigree.co.th'\n",
    "for e in a_tags:\n",
    "    img = e.find('img')\n",
    "    breed = img['alt']\n",
    "    src = url_prefix+img['src']\n",
    "    img_html = f'<img src= \"{src}\"/>'\n",
    "    link = e['href']\n",
    "    href_html = f'<a href = \"{link}\">{breed}</a>'\n",
    "    rows.append((breed,link,src,href_html,img_html))"
   ]
  },
  {
   "cell_type": "code",
   "execution_count": 29,
   "metadata": {},
   "outputs": [
    {
     "data": {
      "text/plain": [
       "[('บาเซ็นจิ',\n",
       "  'https://www.pedigree.co.th/CaringTips/Breed/Item.aspx/6/basenji',\n",
       "  'https://www.pedigree.co.th/uploads/Breeds/บาเซ็นจิ.jpg',\n",
       "  '<a href = \"https://www.pedigree.co.th/CaringTips/Breed/Item.aspx/6/basenji\">บาเซ็นจิ</a>',\n",
       "  '<img src= \"https://www.pedigree.co.th/uploads/Breeds/บาเซ็นจิ.jpg\"/>'),\n",
       " ('บาสเซ็ต ฮาวด์',\n",
       "  'https://www.pedigree.co.th/CaringTips/Breed/Item.aspx/7/basset-hound',\n",
       "  'https://www.pedigree.co.th/uploads/Breeds/บาสเซ็ต-ฮาวด์.jpg',\n",
       "  '<a href = \"https://www.pedigree.co.th/CaringTips/Breed/Item.aspx/7/basset-hound\">บาสเซ็ต ฮาวด์</a>',\n",
       "  '<img src= \"https://www.pedigree.co.th/uploads/Breeds/บาสเซ็ต-ฮาวด์.jpg\"/>'),\n",
       " ('บีเกิ้ล',\n",
       "  'https://www.pedigree.co.th/CaringTips/Breed/Item.aspx/8/beagle',\n",
       "  'https://www.pedigree.co.th/uploads/Breeds/บีเกิ้ล.jpg',\n",
       "  '<a href = \"https://www.pedigree.co.th/CaringTips/Breed/Item.aspx/8/beagle\">บีเกิ้ล</a>',\n",
       "  '<img src= \"https://www.pedigree.co.th/uploads/Breeds/บีเกิ้ล.jpg\"/>'),\n",
       " ('บิชอง ฟริเซ่',\n",
       "  'https://www.pedigree.co.th/CaringTips/Breed/Item.aspx/10/bichon-fries',\n",
       "  'https://www.pedigree.co.th/uploads/Breeds/บิชอง-ฟริเซ่.jpg',\n",
       "  '<a href = \"https://www.pedigree.co.th/CaringTips/Breed/Item.aspx/10/bichon-fries\">บิชอง ฟริเซ่</a>',\n",
       "  '<img src= \"https://www.pedigree.co.th/uploads/Breeds/บิชอง-ฟริเซ่.jpg\"/>'),\n",
       " ('บอร์เดอร์ คอลลี่',\n",
       "  'https://www.pedigree.co.th/CaringTips/Breed/Item.aspx/11/border-collie',\n",
       "  'https://www.pedigree.co.th/uploads/Breeds/บอร์เดอร์-คอลลี่.jpg',\n",
       "  '<a href = \"https://www.pedigree.co.th/CaringTips/Breed/Item.aspx/11/border-collie\">บอร์เดอร์ คอลลี่</a>',\n",
       "  '<img src= \"https://www.pedigree.co.th/uploads/Breeds/บอร์เดอร์-คอลลี่.jpg\"/>'),\n",
       " ('บอสตัน เทอร์เรีย',\n",
       "  'https://www.pedigree.co.th/CaringTips/Breed/Item.aspx/12/boston-terrier',\n",
       "  'https://www.pedigree.co.th/uploads/Breeds/บอสตัน-เทอร์เรีย.jpg',\n",
       "  '<a href = \"https://www.pedigree.co.th/CaringTips/Breed/Item.aspx/12/boston-terrier\">บอสตัน เทอร์เรีย</a>',\n",
       "  '<img src= \"https://www.pedigree.co.th/uploads/Breeds/บอสตัน-เทอร์เรีย.jpg\"/>'),\n",
       " ('บ็อกเซอร์',\n",
       "  'https://www.pedigree.co.th/CaringTips/Breed/Item.aspx/13/boxer',\n",
       "  'https://www.pedigree.co.th/uploads/Breeds/บ็อกเซอร์.jpg',\n",
       "  '<a href = \"https://www.pedigree.co.th/CaringTips/Breed/Item.aspx/13/boxer\">บ็อกเซอร์</a>',\n",
       "  '<img src= \"https://www.pedigree.co.th/uploads/Breeds/บ็อกเซอร์.jpg\"/>'),\n",
       " ('บูลล์เทอร์เรีย',\n",
       "  'https://www.pedigree.co.th/CaringTips/Breed/Item.aspx/14/bull-terrier',\n",
       "  'https://www.pedigree.co.th/uploads/Breeds/บูลล์เทอร์เรีย.jpg',\n",
       "  '<a href = \"https://www.pedigree.co.th/CaringTips/Breed/Item.aspx/14/bull-terrier\">บูลล์เทอร์เรีย</a>',\n",
       "  '<img src= \"https://www.pedigree.co.th/uploads/Breeds/บูลล์เทอร์เรีย.jpg\"/>'),\n",
       " ('บูลล์ด็อก',\n",
       "  'https://www.pedigree.co.th/CaringTips/Breed/Item.aspx/15/bulldog',\n",
       "  'https://www.pedigree.co.th/uploads/Breeds/บูลล์ด็อก.jpg',\n",
       "  '<a href = \"https://www.pedigree.co.th/CaringTips/Breed/Item.aspx/15/bulldog\">บูลล์ด็อก</a>',\n",
       "  '<img src= \"https://www.pedigree.co.th/uploads/Breeds/บูลล์ด็อก.jpg\"/>')]"
      ]
     },
     "execution_count": 29,
     "metadata": {},
     "output_type": "execute_result"
    }
   ],
   "source": [
    "rows"
   ]
  },
  {
   "cell_type": "code",
   "execution_count": 30,
   "metadata": {},
   "outputs": [
    {
     "data": {
      "text/html": [
       "<div>\n",
       "<style scoped>\n",
       "    .dataframe tbody tr th:only-of-type {\n",
       "        vertical-align: middle;\n",
       "    }\n",
       "\n",
       "    .dataframe tbody tr th {\n",
       "        vertical-align: top;\n",
       "    }\n",
       "\n",
       "    .dataframe thead th {\n",
       "        text-align: right;\n",
       "    }\n",
       "</style>\n",
       "<table border=\"1\" class=\"dataframe\">\n",
       "  <thead>\n",
       "    <tr style=\"text-align: right;\">\n",
       "      <th></th>\n",
       "      <th>breed</th>\n",
       "      <th>link</th>\n",
       "      <th>img_url</th>\n",
       "      <th>href_html</th>\n",
       "      <th>img_html</th>\n",
       "    </tr>\n",
       "  </thead>\n",
       "  <tbody>\n",
       "    <tr>\n",
       "      <th>0</th>\n",
       "      <td>บาเซ็นจิ</td>\n",
       "      <td>https://www.pedigree.co.th/CaringTips/Breed/It...</td>\n",
       "      <td>https://www.pedigree.co.th/uploads/Breeds/บาเซ...</td>\n",
       "      <td>&lt;a href = \"https://www.pedigree.co.th/CaringTi...</td>\n",
       "      <td>&lt;img src= \"https://www.pedigree.co.th/uploads/...</td>\n",
       "    </tr>\n",
       "    <tr>\n",
       "      <th>1</th>\n",
       "      <td>บาสเซ็ต ฮาวด์</td>\n",
       "      <td>https://www.pedigree.co.th/CaringTips/Breed/It...</td>\n",
       "      <td>https://www.pedigree.co.th/uploads/Breeds/บาสเ...</td>\n",
       "      <td>&lt;a href = \"https://www.pedigree.co.th/CaringTi...</td>\n",
       "      <td>&lt;img src= \"https://www.pedigree.co.th/uploads/...</td>\n",
       "    </tr>\n",
       "    <tr>\n",
       "      <th>2</th>\n",
       "      <td>บีเกิ้ล</td>\n",
       "      <td>https://www.pedigree.co.th/CaringTips/Breed/It...</td>\n",
       "      <td>https://www.pedigree.co.th/uploads/Breeds/บีเก...</td>\n",
       "      <td>&lt;a href = \"https://www.pedigree.co.th/CaringTi...</td>\n",
       "      <td>&lt;img src= \"https://www.pedigree.co.th/uploads/...</td>\n",
       "    </tr>\n",
       "  </tbody>\n",
       "</table>\n",
       "</div>"
      ],
      "text/plain": [
       "           breed                                               link  \\\n",
       "0       บาเซ็นจิ  https://www.pedigree.co.th/CaringTips/Breed/It...   \n",
       "1  บาสเซ็ต ฮาวด์  https://www.pedigree.co.th/CaringTips/Breed/It...   \n",
       "2        บีเกิ้ล  https://www.pedigree.co.th/CaringTips/Breed/It...   \n",
       "\n",
       "                                             img_url  \\\n",
       "0  https://www.pedigree.co.th/uploads/Breeds/บาเซ...   \n",
       "1  https://www.pedigree.co.th/uploads/Breeds/บาสเ...   \n",
       "2  https://www.pedigree.co.th/uploads/Breeds/บีเก...   \n",
       "\n",
       "                                           href_html  \\\n",
       "0  <a href = \"https://www.pedigree.co.th/CaringTi...   \n",
       "1  <a href = \"https://www.pedigree.co.th/CaringTi...   \n",
       "2  <a href = \"https://www.pedigree.co.th/CaringTi...   \n",
       "\n",
       "                                            img_html  \n",
       "0  <img src= \"https://www.pedigree.co.th/uploads/...  \n",
       "1  <img src= \"https://www.pedigree.co.th/uploads/...  \n",
       "2  <img src= \"https://www.pedigree.co.th/uploads/...  "
      ]
     },
     "execution_count": 30,
     "metadata": {},
     "output_type": "execute_result"
    }
   ],
   "source": [
    "df=pd.DataFrame(rows, columns = ['breed','link','img_url','href_html','img_html'])\n",
    "df.head(3)"
   ]
  },
  {
   "cell_type": "code",
   "execution_count": 31,
   "metadata": {},
   "outputs": [],
   "source": [
    "df.to_csv('Bdogs.csv',index=False)"
   ]
  },
  {
   "cell_type": "code",
   "execution_count": null,
   "metadata": {},
   "outputs": [],
   "source": []
  }
 ],
 "metadata": {
  "kernelspec": {
   "display_name": "Python 3",
   "language": "python",
   "name": "python3"
  },
  "language_info": {
   "codemirror_mode": {
    "name": "ipython",
    "version": 3
   },
   "file_extension": ".py",
   "mimetype": "text/x-python",
   "name": "python",
   "nbconvert_exporter": "python",
   "pygments_lexer": "ipython3",
   "version": "3.7.1"
  }
 },
 "nbformat": 4,
 "nbformat_minor": 2
}
